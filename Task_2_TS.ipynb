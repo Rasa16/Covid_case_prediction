{
  "nbformat": 4,
  "nbformat_minor": 0,
  "metadata": {
    "colab": {
      "name": "Task_2_TS",
      "provenance": [],
      "collapsed_sections": []
    },
    "kernelspec": {
      "name": "python3",
      "display_name": "Python 3"
    }
  },
  "cells": [
    {
      "cell_type": "code",
      "metadata": {
        "id": "2Q0edWKLhdO4",
        "colab_type": "code",
        "colab": {}
      },
      "source": [
        "import numpy as np\n",
        "import pandas as pd\n"
      ],
      "execution_count": null,
      "outputs": []
    },
    {
      "cell_type": "code",
      "metadata": {
        "id": "bPTwBEKQhqkq",
        "colab_type": "code",
        "colab": {}
      },
      "source": [
        "#importing data\n",
        "df=pd.read_excel(\"/content/drive/My Drive/FLIPR_6/Test_dataset.xlsx\",sheet_name=\"Foreign_Visitors_TS\")\n",
        "City = df['City'].values\n",
        "df.drop(\"City\",axis=1,inplace=True)"
      ],
      "execution_count": null,
      "outputs": []
    },
    {
      "cell_type": "code",
      "metadata": {
        "id": "GdZ94WHpjD54",
        "colab_type": "code",
        "colab": {
          "base_uri": "https://localhost:8080/",
          "height": 121
        },
        "outputId": "c13abd78-631e-4fd6-aee2-a3e4cd132bd7"
      },
      "source": [
        "df.dtypes"
      ],
      "execution_count": null,
      "outputs": [
        {
          "output_type": "execute_result",
          "data": {
            "text/plain": [
              "Time Series Data    object\n",
              "Unnamed: 2          object\n",
              "Unnamed: 3          object\n",
              "Unnamed: 4          object\n",
              "Unnamed: 5          object\n",
              "dtype: object"
            ]
          },
          "metadata": {
            "tags": []
          },
          "execution_count": 6
        }
      ]
    },
    {
      "cell_type": "code",
      "metadata": {
        "id": "52nio4oajKeJ",
        "colab_type": "code",
        "colab": {
          "base_uri": "https://localhost:8080/",
          "height": 206
        },
        "outputId": "9b0800d7-9b7d-4e68-bdae-6600d58e446a"
      },
      "source": [
        "df.head()"
      ],
      "execution_count": null,
      "outputs": [
        {
          "output_type": "execute_result",
          "data": {
            "text/html": [
              "<div>\n",
              "<style scoped>\n",
              "    .dataframe tbody tr th:only-of-type {\n",
              "        vertical-align: middle;\n",
              "    }\n",
              "\n",
              "    .dataframe tbody tr th {\n",
              "        vertical-align: top;\n",
              "    }\n",
              "\n",
              "    .dataframe thead th {\n",
              "        text-align: right;\n",
              "    }\n",
              "</style>\n",
              "<table border=\"1\" class=\"dataframe\">\n",
              "  <thead>\n",
              "    <tr style=\"text-align: right;\">\n",
              "      <th></th>\n",
              "      <th>Time Series Data</th>\n",
              "      <th>Unnamed: 2</th>\n",
              "      <th>Unnamed: 3</th>\n",
              "      <th>Unnamed: 4</th>\n",
              "      <th>Unnamed: 5</th>\n",
              "    </tr>\n",
              "  </thead>\n",
              "  <tbody>\n",
              "    <tr>\n",
              "      <th>0</th>\n",
              "      <td>April</td>\n",
              "      <td>May</td>\n",
              "      <td>June</td>\n",
              "      <td>July</td>\n",
              "      <td>August</td>\n",
              "    </tr>\n",
              "    <tr>\n",
              "      <th>1</th>\n",
              "      <td>1614</td>\n",
              "      <td>1946</td>\n",
              "      <td>2372</td>\n",
              "      <td>2500</td>\n",
              "      <td>2769</td>\n",
              "    </tr>\n",
              "    <tr>\n",
              "      <th>2</th>\n",
              "      <td>369179</td>\n",
              "      <td>445559</td>\n",
              "      <td>541045</td>\n",
              "      <td>572860</td>\n",
              "      <td>636502</td>\n",
              "    </tr>\n",
              "    <tr>\n",
              "      <th>3</th>\n",
              "      <td>140581</td>\n",
              "      <td>169665</td>\n",
              "      <td>206030</td>\n",
              "      <td>218138</td>\n",
              "      <td>242367</td>\n",
              "    </tr>\n",
              "    <tr>\n",
              "      <th>4</th>\n",
              "      <td>2557179</td>\n",
              "      <td>3086249</td>\n",
              "      <td>3747597</td>\n",
              "      <td>3968032</td>\n",
              "      <td>4408916</td>\n",
              "    </tr>\n",
              "  </tbody>\n",
              "</table>\n",
              "</div>"
            ],
            "text/plain": [
              "  Time Series Data Unnamed: 2 Unnamed: 3 Unnamed: 4 Unnamed: 5\n",
              "0            April        May       June       July     August\n",
              "1             1614       1946       2372       2500       2769\n",
              "2           369179     445559     541045     572860     636502\n",
              "3           140581     169665     206030     218138     242367\n",
              "4          2557179    3086249    3747597    3968032    4408916"
            ]
          },
          "metadata": {
            "tags": []
          },
          "execution_count": 7
        }
      ]
    },
    {
      "cell_type": "code",
      "metadata": {
        "id": "7xYRraeCqGgb",
        "colab_type": "code",
        "colab": {}
      },
      "source": [
        "df.rename(columns={'Time Series Data':'2020-04-01', 'Unnamed: 2': '2020-05-01', 'Unnamed: 3':'2020-06-01', 'Unnamed: 4':'2020-07-01', 'Unnamed: 5':'2020-08-01'},inplace = True)"
      ],
      "execution_count": null,
      "outputs": []
    },
    {
      "cell_type": "code",
      "metadata": {
        "id": "i4IYVWLRqRtn",
        "colab_type": "code",
        "colab": {}
      },
      "source": [
        "df.drop([0],inplace = True)"
      ],
      "execution_count": null,
      "outputs": []
    },
    {
      "cell_type": "code",
      "metadata": {
        "id": "ic0qb1IWh5vF",
        "colab_type": "code",
        "colab": {}
      },
      "source": [
        "df['2020-04-01'] = df['2020-04-01'].astype(float)\n",
        "df['2020-05-01'] = df['2020-05-01'].astype(float)\n",
        "df['2020-06-01'] = df['2020-06-01'].astype(float)\n",
        "df['2020-07-01'] = df['2020-07-01'].astype(float)\n",
        "df['2020-08-01'] = df['2020-08-01'].astype(float)"
      ],
      "execution_count": null,
      "outputs": []
    },
    {
      "cell_type": "code",
      "metadata": {
        "id": "_bFQTm3ziOvt",
        "colab_type": "code",
        "colab": {
          "base_uri": "https://localhost:8080/",
          "height": 121
        },
        "outputId": "eb8cd26c-dbb7-4d70-f249-407c66c1ec41"
      },
      "source": [
        "df.dtypes"
      ],
      "execution_count": null,
      "outputs": [
        {
          "output_type": "execute_result",
          "data": {
            "text/plain": [
              "2020-04-01    float64\n",
              "2020-05-01    float64\n",
              "2020-06-01    float64\n",
              "2020-07-01    float64\n",
              "2020-08-01    float64\n",
              "dtype: object"
            ]
          },
          "metadata": {
            "tags": []
          },
          "execution_count": 14
        }
      ]
    },
    {
      "cell_type": "code",
      "metadata": {
        "id": "3GyCkCJA8EwI",
        "colab_type": "code",
        "colab": {}
      },
      "source": [
        "df = df.transpose()"
      ],
      "execution_count": null,
      "outputs": []
    },
    {
      "cell_type": "code",
      "metadata": {
        "id": "jfN9JoDP8LBa",
        "colab_type": "code",
        "colab": {
          "base_uri": "https://localhost:8080/",
          "height": 256
        },
        "outputId": "99c5db76-c3c4-4187-f812-d63c99fdaddb"
      },
      "source": [
        "df.head()"
      ],
      "execution_count": null,
      "outputs": [
        {
          "output_type": "execute_result",
          "data": {
            "text/html": [
              "<div>\n",
              "<style scoped>\n",
              "    .dataframe tbody tr th:only-of-type {\n",
              "        vertical-align: middle;\n",
              "    }\n",
              "\n",
              "    .dataframe tbody tr th {\n",
              "        vertical-align: top;\n",
              "    }\n",
              "\n",
              "    .dataframe thead th {\n",
              "        text-align: right;\n",
              "    }\n",
              "</style>\n",
              "<table border=\"1\" class=\"dataframe\">\n",
              "  <thead>\n",
              "    <tr style=\"text-align: right;\">\n",
              "      <th></th>\n",
              "      <th>1</th>\n",
              "      <th>2</th>\n",
              "      <th>3</th>\n",
              "      <th>4</th>\n",
              "      <th>5</th>\n",
              "      <th>6</th>\n",
              "      <th>7</th>\n",
              "      <th>8</th>\n",
              "      <th>9</th>\n",
              "      <th>10</th>\n",
              "      <th>11</th>\n",
              "      <th>12</th>\n",
              "      <th>13</th>\n",
              "      <th>14</th>\n",
              "      <th>15</th>\n",
              "      <th>16</th>\n",
              "      <th>17</th>\n",
              "      <th>18</th>\n",
              "      <th>19</th>\n",
              "      <th>20</th>\n",
              "      <th>21</th>\n",
              "      <th>22</th>\n",
              "      <th>23</th>\n",
              "      <th>24</th>\n",
              "      <th>25</th>\n",
              "      <th>26</th>\n",
              "      <th>27</th>\n",
              "      <th>28</th>\n",
              "      <th>29</th>\n",
              "      <th>30</th>\n",
              "      <th>31</th>\n",
              "      <th>32</th>\n",
              "      <th>33</th>\n",
              "      <th>34</th>\n",
              "      <th>35</th>\n",
              "      <th>36</th>\n",
              "      <th>37</th>\n",
              "      <th>38</th>\n",
              "      <th>39</th>\n",
              "      <th>40</th>\n",
              "      <th>...</th>\n",
              "      <th>462</th>\n",
              "      <th>463</th>\n",
              "      <th>464</th>\n",
              "      <th>465</th>\n",
              "      <th>466</th>\n",
              "      <th>467</th>\n",
              "      <th>468</th>\n",
              "      <th>469</th>\n",
              "      <th>470</th>\n",
              "      <th>471</th>\n",
              "      <th>472</th>\n",
              "      <th>473</th>\n",
              "      <th>474</th>\n",
              "      <th>475</th>\n",
              "      <th>476</th>\n",
              "      <th>477</th>\n",
              "      <th>478</th>\n",
              "      <th>479</th>\n",
              "      <th>480</th>\n",
              "      <th>481</th>\n",
              "      <th>482</th>\n",
              "      <th>483</th>\n",
              "      <th>484</th>\n",
              "      <th>485</th>\n",
              "      <th>486</th>\n",
              "      <th>487</th>\n",
              "      <th>488</th>\n",
              "      <th>489</th>\n",
              "      <th>490</th>\n",
              "      <th>491</th>\n",
              "      <th>492</th>\n",
              "      <th>493</th>\n",
              "      <th>494</th>\n",
              "      <th>495</th>\n",
              "      <th>496</th>\n",
              "      <th>497</th>\n",
              "      <th>498</th>\n",
              "      <th>499</th>\n",
              "      <th>500</th>\n",
              "      <th>501</th>\n",
              "    </tr>\n",
              "  </thead>\n",
              "  <tbody>\n",
              "    <tr>\n",
              "      <th>2020-04-01</th>\n",
              "      <td>1614.0</td>\n",
              "      <td>369179.0</td>\n",
              "      <td>140581.0</td>\n",
              "      <td>2557179.0</td>\n",
              "      <td>1800363.0</td>\n",
              "      <td>369179.0</td>\n",
              "      <td>NaN</td>\n",
              "      <td>NaN</td>\n",
              "      <td>NaN</td>\n",
              "      <td>855688.0</td>\n",
              "      <td>863918.0</td>\n",
              "      <td>2557179.0</td>\n",
              "      <td>3317.0</td>\n",
              "      <td>97323.0</td>\n",
              "      <td>2557179.0</td>\n",
              "      <td>369179.0</td>\n",
              "      <td>369179.0</td>\n",
              "      <td>244400.0</td>\n",
              "      <td>244400.0</td>\n",
              "      <td>137963.0</td>\n",
              "      <td>NaN</td>\n",
              "      <td>855688.0</td>\n",
              "      <td>33977.0</td>\n",
              "      <td>2557179.0</td>\n",
              "      <td>855688.0</td>\n",
              "      <td>369179.0</td>\n",
              "      <td>2717138.0</td>\n",
              "      <td>1800363.0</td>\n",
              "      <td>1614.0</td>\n",
              "      <td>NaN</td>\n",
              "      <td>NaN</td>\n",
              "      <td>NaN</td>\n",
              "      <td>855688.0</td>\n",
              "      <td>2557179.0</td>\n",
              "      <td>2557179.0</td>\n",
              "      <td>140581.0</td>\n",
              "      <td>1800363.0</td>\n",
              "      <td>855688.0</td>\n",
              "      <td>244400.0</td>\n",
              "      <td>855688.0</td>\n",
              "      <td>...</td>\n",
              "      <td>61420.0</td>\n",
              "      <td>61420.0</td>\n",
              "      <td>61420.0</td>\n",
              "      <td>855688.0</td>\n",
              "      <td>61420.0</td>\n",
              "      <td>61420.0</td>\n",
              "      <td>61420.0</td>\n",
              "      <td>38851.0</td>\n",
              "      <td>61420.0</td>\n",
              "      <td>137963.0</td>\n",
              "      <td>61420.0</td>\n",
              "      <td>61420.0</td>\n",
              "      <td>61420.0</td>\n",
              "      <td>61420.0</td>\n",
              "      <td>140581.0</td>\n",
              "      <td>61420.0</td>\n",
              "      <td>863918.0</td>\n",
              "      <td>NaN</td>\n",
              "      <td>NaN</td>\n",
              "      <td>NaN</td>\n",
              "      <td>61420.0</td>\n",
              "      <td>61420.0</td>\n",
              "      <td>137963.0</td>\n",
              "      <td>2557179.0</td>\n",
              "      <td>535775.0</td>\n",
              "      <td>61420.0</td>\n",
              "      <td>61420.0</td>\n",
              "      <td>61420.0</td>\n",
              "      <td>61420.0</td>\n",
              "      <td>175816.0</td>\n",
              "      <td>855688.0</td>\n",
              "      <td>61420.0</td>\n",
              "      <td>61420.0</td>\n",
              "      <td>61420.0</td>\n",
              "      <td>61420.0</td>\n",
              "      <td>61420.0</td>\n",
              "      <td>61420.0</td>\n",
              "      <td>61420.0</td>\n",
              "      <td>61420.0</td>\n",
              "      <td>1800363.0</td>\n",
              "    </tr>\n",
              "    <tr>\n",
              "      <th>2020-05-01</th>\n",
              "      <td>1946.0</td>\n",
              "      <td>445559.0</td>\n",
              "      <td>169665.0</td>\n",
              "      <td>3086249.0</td>\n",
              "      <td>2172850.0</td>\n",
              "      <td>445559.0</td>\n",
              "      <td>3086249.0</td>\n",
              "      <td>88263.0</td>\n",
              "      <td>445559.0</td>\n",
              "      <td>1032726.0</td>\n",
              "      <td>1042658.0</td>\n",
              "      <td>3086249.0</td>\n",
              "      <td>NaN</td>\n",
              "      <td>117458.0</td>\n",
              "      <td>3086249.0</td>\n",
              "      <td>445559.0</td>\n",
              "      <td>445559.0</td>\n",
              "      <td>294964.0</td>\n",
              "      <td>294964.0</td>\n",
              "      <td>166506.0</td>\n",
              "      <td>445559.0</td>\n",
              "      <td>1032726.0</td>\n",
              "      <td>41006.0</td>\n",
              "      <td>3086249.0</td>\n",
              "      <td>1032726.0</td>\n",
              "      <td>445559.0</td>\n",
              "      <td>3279303.0</td>\n",
              "      <td>2172850.0</td>\n",
              "      <td>1946.0</td>\n",
              "      <td>NaN</td>\n",
              "      <td>NaN</td>\n",
              "      <td>NaN</td>\n",
              "      <td>1032726.0</td>\n",
              "      <td>3086249.0</td>\n",
              "      <td>3086249.0</td>\n",
              "      <td>169665.0</td>\n",
              "      <td>2172850.0</td>\n",
              "      <td>1032726.0</td>\n",
              "      <td>294964.0</td>\n",
              "      <td>1032726.0</td>\n",
              "      <td>...</td>\n",
              "      <td>74125.0</td>\n",
              "      <td>74125.0</td>\n",
              "      <td>74125.0</td>\n",
              "      <td>1032726.0</td>\n",
              "      <td>74125.0</td>\n",
              "      <td>74125.0</td>\n",
              "      <td>74125.0</td>\n",
              "      <td>46888.0</td>\n",
              "      <td>74125.0</td>\n",
              "      <td>166506.0</td>\n",
              "      <td>74125.0</td>\n",
              "      <td>74125.0</td>\n",
              "      <td>74125.0</td>\n",
              "      <td>74125.0</td>\n",
              "      <td>169665.0</td>\n",
              "      <td>74125.0</td>\n",
              "      <td>1042658.0</td>\n",
              "      <td>NaN</td>\n",
              "      <td>NaN</td>\n",
              "      <td>NaN</td>\n",
              "      <td>74125.0</td>\n",
              "      <td>74125.0</td>\n",
              "      <td>166506.0</td>\n",
              "      <td>3086249.0</td>\n",
              "      <td>646624.0</td>\n",
              "      <td>74125.0</td>\n",
              "      <td>74125.0</td>\n",
              "      <td>74125.0</td>\n",
              "      <td>74125.0</td>\n",
              "      <td>212191.0</td>\n",
              "      <td>1032726.0</td>\n",
              "      <td>74125.0</td>\n",
              "      <td>74125.0</td>\n",
              "      <td>74125.0</td>\n",
              "      <td>74125.0</td>\n",
              "      <td>74125.0</td>\n",
              "      <td>74125.0</td>\n",
              "      <td>74125.0</td>\n",
              "      <td>74125.0</td>\n",
              "      <td>2172850.0</td>\n",
              "    </tr>\n",
              "    <tr>\n",
              "      <th>2020-06-01</th>\n",
              "      <td>2372.0</td>\n",
              "      <td>541045.0</td>\n",
              "      <td>206030.0</td>\n",
              "      <td>3747597.0</td>\n",
              "      <td>2638469.0</td>\n",
              "      <td>541045.0</td>\n",
              "      <td>3747597.0</td>\n",
              "      <td>107184.0</td>\n",
              "      <td>541045.0</td>\n",
              "      <td>NaN</td>\n",
              "      <td>1266093.0</td>\n",
              "      <td>3747597.0</td>\n",
              "      <td>4867.0</td>\n",
              "      <td>142635.0</td>\n",
              "      <td>3747597.0</td>\n",
              "      <td>541045.0</td>\n",
              "      <td>541045.0</td>\n",
              "      <td>358178.0</td>\n",
              "      <td>NaN</td>\n",
              "      <td>202194.0</td>\n",
              "      <td>541045.0</td>\n",
              "      <td>1254032.0</td>\n",
              "      <td>49801.0</td>\n",
              "      <td>3747597.0</td>\n",
              "      <td>1254032.0</td>\n",
              "      <td>541045.0</td>\n",
              "      <td>3982019.0</td>\n",
              "      <td>2638469.0</td>\n",
              "      <td>2372.0</td>\n",
              "      <td>242245.0</td>\n",
              "      <td>541045.0</td>\n",
              "      <td>1254032.0</td>\n",
              "      <td>1254032.0</td>\n",
              "      <td>3747597.0</td>\n",
              "      <td>3747597.0</td>\n",
              "      <td>206030.0</td>\n",
              "      <td>2638469.0</td>\n",
              "      <td>1254032.0</td>\n",
              "      <td>358178.0</td>\n",
              "      <td>1254032.0</td>\n",
              "      <td>...</td>\n",
              "      <td>90018.0</td>\n",
              "      <td>90018.0</td>\n",
              "      <td>90018.0</td>\n",
              "      <td>1254032.0</td>\n",
              "      <td>90018.0</td>\n",
              "      <td>90018.0</td>\n",
              "      <td>90018.0</td>\n",
              "      <td>56943.0</td>\n",
              "      <td>90018.0</td>\n",
              "      <td>202194.0</td>\n",
              "      <td>90018.0</td>\n",
              "      <td>90018.0</td>\n",
              "      <td>90018.0</td>\n",
              "      <td>90018.0</td>\n",
              "      <td>206030.0</td>\n",
              "      <td>90018.0</td>\n",
              "      <td>1266093.0</td>\n",
              "      <td>NaN</td>\n",
              "      <td>NaN</td>\n",
              "      <td>NaN</td>\n",
              "      <td>90018.0</td>\n",
              "      <td>90018.0</td>\n",
              "      <td>202194.0</td>\n",
              "      <td>3747597.0</td>\n",
              "      <td>785194.0</td>\n",
              "      <td>90018.0</td>\n",
              "      <td>90018.0</td>\n",
              "      <td>90018.0</td>\n",
              "      <td>90018.0</td>\n",
              "      <td>257668.0</td>\n",
              "      <td>1254032.0</td>\n",
              "      <td>90018.0</td>\n",
              "      <td>90018.0</td>\n",
              "      <td>90018.0</td>\n",
              "      <td>90018.0</td>\n",
              "      <td>90018.0</td>\n",
              "      <td>90018.0</td>\n",
              "      <td>90018.0</td>\n",
              "      <td>90018.0</td>\n",
              "      <td>2638469.0</td>\n",
              "    </tr>\n",
              "    <tr>\n",
              "      <th>2020-07-01</th>\n",
              "      <td>2500.0</td>\n",
              "      <td>572860.0</td>\n",
              "      <td>218138.0</td>\n",
              "      <td>3968032.0</td>\n",
              "      <td>2793662.0</td>\n",
              "      <td>572860.0</td>\n",
              "      <td>3968032.0</td>\n",
              "      <td>113478.0</td>\n",
              "      <td>572860.0</td>\n",
              "      <td>1327788.0</td>\n",
              "      <td>1340558.0</td>\n",
              "      <td>3968032.0</td>\n",
              "      <td>5143.0</td>\n",
              "      <td>151015.0</td>\n",
              "      <td>3968032.0</td>\n",
              "      <td>572860.0</td>\n",
              "      <td>572860.0</td>\n",
              "      <td>379237.0</td>\n",
              "      <td>NaN</td>\n",
              "      <td>214077.0</td>\n",
              "      <td>572860.0</td>\n",
              "      <td>1327788.0</td>\n",
              "      <td>52719.0</td>\n",
              "      <td>3968032.0</td>\n",
              "      <td>1327788.0</td>\n",
              "      <td>572860.0</td>\n",
              "      <td>4216244.0</td>\n",
              "      <td>2793662.0</td>\n",
              "      <td>2500.0</td>\n",
              "      <td>256484.0</td>\n",
              "      <td>572860.0</td>\n",
              "      <td>1327788.0</td>\n",
              "      <td>1327788.0</td>\n",
              "      <td>3968032.0</td>\n",
              "      <td>3968032.0</td>\n",
              "      <td>218138.0</td>\n",
              "      <td>2793662.0</td>\n",
              "      <td>1327788.0</td>\n",
              "      <td>379237.0</td>\n",
              "      <td>1327788.0</td>\n",
              "      <td>...</td>\n",
              "      <td>95302.0</td>\n",
              "      <td>95302.0</td>\n",
              "      <td>95302.0</td>\n",
              "      <td>1327788.0</td>\n",
              "      <td>95302.0</td>\n",
              "      <td>95302.0</td>\n",
              "      <td>95302.0</td>\n",
              "      <td>60282.0</td>\n",
              "      <td>95302.0</td>\n",
              "      <td>214077.0</td>\n",
              "      <td>95302.0</td>\n",
              "      <td>95302.0</td>\n",
              "      <td>95302.0</td>\n",
              "      <td>95302.0</td>\n",
              "      <td>218138.0</td>\n",
              "      <td>95302.0</td>\n",
              "      <td>1340558.0</td>\n",
              "      <td>NaN</td>\n",
              "      <td>NaN</td>\n",
              "      <td>NaN</td>\n",
              "      <td>95302.0</td>\n",
              "      <td>95302.0</td>\n",
              "      <td>214077.0</td>\n",
              "      <td>3968032.0</td>\n",
              "      <td>831371.0</td>\n",
              "      <td>95302.0</td>\n",
              "      <td>95302.0</td>\n",
              "      <td>95302.0</td>\n",
              "      <td>95302.0</td>\n",
              "      <td>272814.0</td>\n",
              "      <td>1327788.0</td>\n",
              "      <td>95302.0</td>\n",
              "      <td>95302.0</td>\n",
              "      <td>95302.0</td>\n",
              "      <td>95302.0</td>\n",
              "      <td>95302.0</td>\n",
              "      <td>95302.0</td>\n",
              "      <td>95302.0</td>\n",
              "      <td>95302.0</td>\n",
              "      <td>2793662.0</td>\n",
              "    </tr>\n",
              "    <tr>\n",
              "      <th>2020-08-01</th>\n",
              "      <td>2769.0</td>\n",
              "      <td>636502.0</td>\n",
              "      <td>242367.0</td>\n",
              "      <td>4408916.0</td>\n",
              "      <td>3104060.0</td>\n",
              "      <td>636502.0</td>\n",
              "      <td>4408916.0</td>\n",
              "      <td>126078.0</td>\n",
              "      <td>636502.0</td>\n",
              "      <td>1475311.0</td>\n",
              "      <td>1489500.0</td>\n",
              "      <td>4408916.0</td>\n",
              "      <td>5705.0</td>\n",
              "      <td>167785.0</td>\n",
              "      <td>4408916.0</td>\n",
              "      <td>636502.0</td>\n",
              "      <td>636502.0</td>\n",
              "      <td>421365.0</td>\n",
              "      <td>421365.0</td>\n",
              "      <td>237854.0</td>\n",
              "      <td>636502.0</td>\n",
              "      <td>1475311.0</td>\n",
              "      <td>58568.0</td>\n",
              "      <td>4408916.0</td>\n",
              "      <td>1475311.0</td>\n",
              "      <td>636502.0</td>\n",
              "      <td>4684707.0</td>\n",
              "      <td>3104060.0</td>\n",
              "      <td>2769.0</td>\n",
              "      <td>284973.0</td>\n",
              "      <td>636502.0</td>\n",
              "      <td>1475311.0</td>\n",
              "      <td>1475311.0</td>\n",
              "      <td>4408916.0</td>\n",
              "      <td>4408916.0</td>\n",
              "      <td>242367.0</td>\n",
              "      <td>3104060.0</td>\n",
              "      <td>1475311.0</td>\n",
              "      <td>421365.0</td>\n",
              "      <td>1475311.0</td>\n",
              "      <td>...</td>\n",
              "      <td>105882.0</td>\n",
              "      <td>105882.0</td>\n",
              "      <td>105882.0</td>\n",
              "      <td>1475311.0</td>\n",
              "      <td>105882.0</td>\n",
              "      <td>105882.0</td>\n",
              "      <td>105882.0</td>\n",
              "      <td>66971.0</td>\n",
              "      <td>105882.0</td>\n",
              "      <td>237854.0</td>\n",
              "      <td>105882.0</td>\n",
              "      <td>105882.0</td>\n",
              "      <td>105882.0</td>\n",
              "      <td>105882.0</td>\n",
              "      <td>242367.0</td>\n",
              "      <td>105882.0</td>\n",
              "      <td>1489500.0</td>\n",
              "      <td>105882.0</td>\n",
              "      <td>636502.0</td>\n",
              "      <td>421365.0</td>\n",
              "      <td>105882.0</td>\n",
              "      <td>105882.0</td>\n",
              "      <td>237854.0</td>\n",
              "      <td>4408916.0</td>\n",
              "      <td>923737.0</td>\n",
              "      <td>105882.0</td>\n",
              "      <td>105882.0</td>\n",
              "      <td>105882.0</td>\n",
              "      <td>105882.0</td>\n",
              "      <td>303118.0</td>\n",
              "      <td>1475311.0</td>\n",
              "      <td>105882.0</td>\n",
              "      <td>105882.0</td>\n",
              "      <td>105882.0</td>\n",
              "      <td>105882.0</td>\n",
              "      <td>105882.0</td>\n",
              "      <td>105882.0</td>\n",
              "      <td>105882.0</td>\n",
              "      <td>105882.0</td>\n",
              "      <td>3104060.0</td>\n",
              "    </tr>\n",
              "  </tbody>\n",
              "</table>\n",
              "<p>5 rows × 501 columns</p>\n",
              "</div>"
            ],
            "text/plain": [
              "               1         2         3    ...       499       500        501\n",
              "2020-04-01  1614.0  369179.0  140581.0  ...   61420.0   61420.0  1800363.0\n",
              "2020-05-01  1946.0  445559.0  169665.0  ...   74125.0   74125.0  2172850.0\n",
              "2020-06-01  2372.0  541045.0  206030.0  ...   90018.0   90018.0  2638469.0\n",
              "2020-07-01  2500.0  572860.0  218138.0  ...   95302.0   95302.0  2793662.0\n",
              "2020-08-01  2769.0  636502.0  242367.0  ...  105882.0  105882.0  3104060.0\n",
              "\n",
              "[5 rows x 501 columns]"
            ]
          },
          "metadata": {
            "tags": []
          },
          "execution_count": 16
        }
      ]
    },
    {
      "cell_type": "code",
      "metadata": {
        "id": "EpdIYbQ38O97",
        "colab_type": "code",
        "colab": {}
      },
      "source": [
        "for i in range(1,502):\n",
        "    df.replace(np.NaN,{i:df[i].mean()},inplace=True)"
      ],
      "execution_count": null,
      "outputs": []
    },
    {
      "cell_type": "code",
      "metadata": {
        "id": "byMG-JwA8aAv",
        "colab_type": "code",
        "colab": {
          "base_uri": "https://localhost:8080/",
          "height": 34
        },
        "outputId": "1b1bd8e7-6720-4a32-8a05-2a56574245be"
      },
      "source": [
        "df.shape"
      ],
      "execution_count": null,
      "outputs": [
        {
          "output_type": "execute_result",
          "data": {
            "text/plain": [
              "(5, 501)"
            ]
          },
          "metadata": {
            "tags": []
          },
          "execution_count": 18
        }
      ]
    },
    {
      "cell_type": "code",
      "metadata": {
        "id": "-hBoFsD58ia8",
        "colab_type": "code",
        "colab": {}
      },
      "source": [
        "df = df.transpose()"
      ],
      "execution_count": null,
      "outputs": []
    },
    {
      "cell_type": "code",
      "metadata": {
        "id": "0SVu68hPPQtO",
        "colab_type": "code",
        "colab": {}
      },
      "source": [
        "def split_dataset(sequence, n_steps):\n",
        "    X = list()\n",
        "    for i in range(len(sequence)):\n",
        "        end_ix = i + n_steps\n",
        "        if end_ix == len(sequence):\n",
        "            break\n",
        "        seq_x = sequence[i:end_ix+1]\n",
        "        X.append(seq_x)\n",
        "    return pd.DataFrame(X)"
      ],
      "execution_count": null,
      "outputs": []
    },
    {
      "cell_type": "code",
      "metadata": {
        "id": "ybIQz-RPPrrP",
        "colab_type": "code",
        "colab": {}
      },
      "source": [
        "def get_data(data,n_steps):\n",
        "    database = pd.DataFrame()\n",
        "    for i in range(len(data)):\n",
        "        arr = split_dataset(data.values[i],n_steps)\n",
        "        database = database.append(arr, ignore_index=True)\n",
        "    print(\"data:\", data.shape)\n",
        "    print(\"database:\", database.shape)\n",
        "    return (database)"
      ],
      "execution_count": null,
      "outputs": []
    },
    {
      "cell_type": "code",
      "metadata": {
        "id": "xJt33ixkPx17",
        "colab_type": "code",
        "colab": {
          "base_uri": "https://localhost:8080/",
          "height": 86
        },
        "outputId": "9f55dcec-a838-4da6-f8b0-b3eb2e54cefc"
      },
      "source": [
        "n_steps = 1\n",
        "train_database = get_data(df,n_steps)\n",
        "Y_train = train_database[n_steps].values\n",
        "train_database = train_database.drop(n_steps, axis=1)\n",
        "X_train = train_database.values\n",
        "print(X_train.shape)\n",
        "print(Y_train.shape)"
      ],
      "execution_count": null,
      "outputs": [
        {
          "output_type": "stream",
          "text": [
            "data: (501, 5)\n",
            "database: (2004, 2)\n",
            "(2004, 1)\n",
            "(2004,)\n"
          ],
          "name": "stdout"
        }
      ]
    },
    {
      "cell_type": "code",
      "metadata": {
        "id": "I9NaZr8SQcI7",
        "colab_type": "code",
        "colab": {}
      },
      "source": [
        "np.savez(\"/content/drive/My Drive/FLIPR_6/time_data.npz\", X_train=X_train, Y_train=Y_train, City= City, n_steps=np.array([n_steps]))"
      ],
      "execution_count": null,
      "outputs": []
    },
    {
      "cell_type": "code",
      "metadata": {
        "id": "aSfzG5iES-3U",
        "colab_type": "code",
        "colab": {}
      },
      "source": [
        "import numpy as np\n",
        "data = np.load(\"/content/drive/My Drive/FLIPR_6/time_data.npz\")\n",
        "X_train = data[\"X_train\"]\n",
        "Y_train = data[\"Y_train\"]\n",
        "#City = data['City']\n",
        "n_steps = data[\"n_steps\"][0]"
      ],
      "execution_count": null,
      "outputs": []
    },
    {
      "cell_type": "code",
      "metadata": {
        "id": "pC2kE2LbTfM4",
        "colab_type": "code",
        "colab": {
          "base_uri": "https://localhost:8080/",
          "height": 34
        },
        "outputId": "e1a2f65c-cd7e-488c-a00b-c48196c6a7fa"
      },
      "source": [
        "print(n_steps)"
      ],
      "execution_count": null,
      "outputs": [
        {
          "output_type": "stream",
          "text": [
            "1\n"
          ],
          "name": "stdout"
        }
      ]
    },
    {
      "cell_type": "code",
      "metadata": {
        "id": "ocaSBN9RTnvZ",
        "colab_type": "code",
        "colab": {}
      },
      "source": [
        "from tensorflow.keras.models import Sequential\n",
        "from tensorflow.keras.layers import LSTM, Dense, Input"
      ],
      "execution_count": null,
      "outputs": []
    },
    {
      "cell_type": "code",
      "metadata": {
        "id": "4uS5Z_qcTsjY",
        "colab_type": "code",
        "colab": {}
      },
      "source": [
        "model = Sequential()\n",
        "model.add(Input((n_steps,1)))\n",
        "model.add(LSTM(units=100, activation=\"relu\", return_sequences=True))\n",
        "model.add(LSTM(units=55, activation=\"relu\", return_sequences=True))\n",
        "model.add(Dense(1))\n",
        "model.compile(optimizer=\"adam\", loss=\"msle\")"
      ],
      "execution_count": null,
      "outputs": []
    },
    {
      "cell_type": "code",
      "metadata": {
        "id": "CaO_RwozT1Iv",
        "colab_type": "code",
        "colab": {}
      },
      "source": [
        "X = X_train.reshape((X_train.shape[0], X_train.shape[1], 1))"
      ],
      "execution_count": null,
      "outputs": []
    },
    {
      "cell_type": "code",
      "metadata": {
        "id": "jgPE8KbIT5Gn",
        "colab_type": "code",
        "colab": {}
      },
      "source": [
        "Y = Y_train.reshape(-1,1)"
      ],
      "execution_count": null,
      "outputs": []
    },
    {
      "cell_type": "code",
      "metadata": {
        "id": "EbQs4jlcT8Ez",
        "colab_type": "code",
        "colab": {
          "base_uri": "https://localhost:8080/",
          "height": 52
        },
        "outputId": "97e93f05-7748-46fc-caaf-7e79cd1417ee"
      },
      "source": [
        "print(\"X:\", X.shape)\n",
        "print(\"Y:\", Y.shape)"
      ],
      "execution_count": null,
      "outputs": [
        {
          "output_type": "stream",
          "text": [
            "X: (2004, 1, 1)\n",
            "Y: (2004, 1)\n"
          ],
          "name": "stdout"
        }
      ]
    },
    {
      "cell_type": "code",
      "metadata": {
        "id": "upl4oD__T-h0",
        "colab_type": "code",
        "colab": {
          "base_uri": "https://localhost:8080/",
          "height": 1000
        },
        "outputId": "55da2beb-1f66-46a9-c2d1-3432baf09715"
      },
      "source": [
        "model.fit(X,Y,epochs=30, validation_split=0.2)"
      ],
      "execution_count": null,
      "outputs": [
        {
          "output_type": "stream",
          "text": [
            "Epoch 1/30\n",
            "51/51 [==============================] - 0s 10ms/step - loss: 12.2404 - val_loss: 8.0679\n",
            "Epoch 2/30\n",
            "51/51 [==============================] - 0s 4ms/step - loss: 6.2538 - val_loss: 4.7126\n",
            "Epoch 3/30\n",
            "51/51 [==============================] - 0s 4ms/step - loss: 3.7857 - val_loss: 2.9477\n",
            "Epoch 4/30\n",
            "51/51 [==============================] - 0s 4ms/step - loss: 2.4083 - val_loss: 1.9072\n",
            "Epoch 5/30\n",
            "51/51 [==============================] - 0s 4ms/step - loss: 1.5752 - val_loss: 1.2596\n",
            "Epoch 6/30\n",
            "51/51 [==============================] - 0s 4ms/step - loss: 1.0478 - val_loss: 0.8422\n",
            "Epoch 7/30\n",
            "51/51 [==============================] - 0s 4ms/step - loss: 0.7035 - val_loss: 0.5663\n",
            "Epoch 8/30\n",
            "51/51 [==============================] - 0s 3ms/step - loss: 0.4746 - val_loss: 0.3821\n",
            "Epoch 9/30\n",
            "51/51 [==============================] - 0s 4ms/step - loss: 0.3210 - val_loss: 0.2579\n",
            "Epoch 10/30\n",
            "51/51 [==============================] - 0s 4ms/step - loss: 0.2172 - val_loss: 0.1737\n",
            "Epoch 11/30\n",
            "51/51 [==============================] - 0s 4ms/step - loss: 0.1469 - val_loss: 0.1168\n",
            "Epoch 12/30\n",
            "51/51 [==============================] - 0s 4ms/step - loss: 0.0993 - val_loss: 0.0784\n",
            "Epoch 13/30\n",
            "51/51 [==============================] - 0s 3ms/step - loss: 0.0673 - val_loss: 0.0527\n",
            "Epoch 14/30\n",
            "51/51 [==============================] - 0s 4ms/step - loss: 0.0460 - val_loss: 0.0357\n",
            "Epoch 15/30\n",
            "51/51 [==============================] - 0s 4ms/step - loss: 0.0319 - val_loss: 0.0245\n",
            "Epoch 16/30\n",
            "51/51 [==============================] - 0s 3ms/step - loss: 0.0225 - val_loss: 0.0171\n",
            "Epoch 17/30\n",
            "51/51 [==============================] - 0s 4ms/step - loss: 0.0164 - val_loss: 0.0123\n",
            "Epoch 18/30\n",
            "51/51 [==============================] - 0s 3ms/step - loss: 0.0125 - val_loss: 0.0093\n",
            "Epoch 19/30\n",
            "51/51 [==============================] - 0s 4ms/step - loss: 0.0100 - val_loss: 0.0074\n",
            "Epoch 20/30\n",
            "51/51 [==============================] - 0s 4ms/step - loss: 0.0085 - val_loss: 0.0063\n",
            "Epoch 21/30\n",
            "51/51 [==============================] - 0s 4ms/step - loss: 0.0076 - val_loss: 0.0056\n",
            "Epoch 22/30\n",
            "51/51 [==============================] - 0s 3ms/step - loss: 0.0071 - val_loss: 0.0052\n",
            "Epoch 23/30\n",
            "51/51 [==============================] - 0s 3ms/step - loss: 0.0068 - val_loss: 0.0050\n",
            "Epoch 24/30\n",
            "51/51 [==============================] - 0s 4ms/step - loss: 0.0066 - val_loss: 0.0049\n",
            "Epoch 25/30\n",
            "51/51 [==============================] - 0s 4ms/step - loss: 0.0065 - val_loss: 0.0048\n",
            "Epoch 26/30\n",
            "51/51 [==============================] - 0s 4ms/step - loss: 0.0064 - val_loss: 0.0048\n",
            "Epoch 27/30\n",
            "51/51 [==============================] - 0s 4ms/step - loss: 0.0064 - val_loss: 0.0048\n",
            "Epoch 28/30\n",
            "51/51 [==============================] - 0s 3ms/step - loss: 0.0064 - val_loss: 0.0048\n",
            "Epoch 29/30\n",
            "51/51 [==============================] - 0s 4ms/step - loss: 0.0064 - val_loss: 0.0048\n",
            "Epoch 30/30\n",
            "51/51 [==============================] - 0s 4ms/step - loss: 0.0064 - val_loss: 0.0048\n"
          ],
          "name": "stdout"
        },
        {
          "output_type": "execute_result",
          "data": {
            "text/plain": [
              "<tensorflow.python.keras.callbacks.History at 0x7f272ecb66d8>"
            ]
          },
          "metadata": {
            "tags": []
          },
          "execution_count": 57
        }
      ]
    },
    {
      "cell_type": "code",
      "metadata": {
        "id": "KEPqmuoIUECf",
        "colab_type": "code",
        "colab": {
          "base_uri": "https://localhost:8080/",
          "height": 260
        },
        "outputId": "a1398451-7762-4af4-9a97-1256cf91892e"
      },
      "source": [
        "model.summary()"
      ],
      "execution_count": null,
      "outputs": [
        {
          "output_type": "stream",
          "text": [
            "Model: \"sequential_4\"\n",
            "_________________________________________________________________\n",
            "Layer (type)                 Output Shape              Param #   \n",
            "=================================================================\n",
            "lstm_7 (LSTM)                (None, 1, 100)            40800     \n",
            "_________________________________________________________________\n",
            "lstm_8 (LSTM)                (None, 1, 55)             34320     \n",
            "_________________________________________________________________\n",
            "dense_4 (Dense)              (None, 1, 1)              56        \n",
            "=================================================================\n",
            "Total params: 75,176\n",
            "Trainable params: 75,176\n",
            "Non-trainable params: 0\n",
            "_________________________________________________________________\n"
          ],
          "name": "stdout"
        }
      ]
    },
    {
      "cell_type": "code",
      "metadata": {
        "id": "LLfg5ZxiV9l5",
        "colab_type": "code",
        "colab": {}
      },
      "source": [
        "model.save(\"/content/drive/My Drive/FLIPR_6/Time_model.h5\")"
      ],
      "execution_count": null,
      "outputs": []
    },
    {
      "cell_type": "code",
      "metadata": {
        "id": "Q6jdSbWqWUkN",
        "colab_type": "code",
        "colab": {}
      },
      "source": [
        "from tensorflow.keras.models import load_model\n",
        "time_model = load_model(\"/content/drive/My Drive/FLIPR_6/Time_model.h5\")"
      ],
      "execution_count": null,
      "outputs": []
    },
    {
      "cell_type": "code",
      "metadata": {
        "id": "Vlr9-LcjXUHI",
        "colab_type": "code",
        "colab": {}
      },
      "source": [
        "import pandas as pd\n",
        "test_dataset = pd.read_excel(\"/content/drive/My Drive/FLIPR_6/Test_dataset.xlsx\")\n",
        "test_fv = test_dataset[\"Foreign Visitors\"]\n"
      ],
      "execution_count": null,
      "outputs": []
    },
    {
      "cell_type": "code",
      "metadata": {
        "id": "PCTwYCEZXneV",
        "colab_type": "code",
        "colab": {
          "base_uri": "https://localhost:8080/",
          "height": 34
        },
        "outputId": "198960c1-d81e-4d24-a43a-26ec712d64c3"
      },
      "source": [
        "input_arr = test_diuresis.values.reshape(-1,1,1)\n",
        "## n is no of month\n",
        "n = 1\n",
        "print(input_arr.shape)"
      ],
      "execution_count": null,
      "outputs": [
        {
          "output_type": "stream",
          "text": [
            "(501, 1, 1)\n"
          ],
          "name": "stdout"
        }
      ]
    },
    {
      "cell_type": "code",
      "metadata": {
        "id": "QawpMgTjX0GG",
        "colab_type": "code",
        "colab": {}
      },
      "source": [
        "for i in range(n):\n",
        "    input_arr = time_model.predict(input_arr)\n",
        "    input_arr = input_arr.reshape(-1,1,1)"
      ],
      "execution_count": null,
      "outputs": []
    },
    {
      "cell_type": "code",
      "metadata": {
        "id": "dTR-C_VtYEFp",
        "colab_type": "code",
        "colab": {}
      },
      "source": [
        "input_arr = input_arr.flatten()"
      ],
      "execution_count": null,
      "outputs": []
    },
    {
      "cell_type": "code",
      "metadata": {
        "id": "dE_Y-j16YHj6",
        "colab_type": "code",
        "colab": {}
      },
      "source": [
        "test_dataset[\"Foreign Visitors\"] = input_arr.astype(\"int64\")"
      ],
      "execution_count": null,
      "outputs": []
    },
    {
      "cell_type": "code",
      "metadata": {
        "id": "M8MjfrPMYR7B",
        "colab_type": "code",
        "colab": {}
      },
      "source": [
        "test_dataset.to_excel(\"/content/drive/My Drive/FLIPR_6/modified_test_dataset.xlsx\")"
      ],
      "execution_count": null,
      "outputs": []
    },
    {
      "cell_type": "code",
      "metadata": {
        "id": "Mc3xc5O0Yh7m",
        "colab_type": "code",
        "colab": {}
      },
      "source": [
        ""
      ],
      "execution_count": null,
      "outputs": []
    }
  ]
}